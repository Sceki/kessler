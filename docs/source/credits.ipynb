{
 "cells": [
  {
   "cell_type": "markdown",
   "id": "stainless-bracket",
   "metadata": {},
   "source": [
    "# Credits\n"
   ]
  },
  {
   "cell_type": "markdown",
   "id": "monetary-albuquerque",
   "metadata": {},
   "source": [
    "Kessler was initially developed by the Constellations team at the [Frontier Development Lab](https://frontierdevelopmentlab.org/) (FDL) Europe 2020, a public-private partnership between the European Space Agency (ESA), Trillium Technologies, and University of Oxford.\n",
    "\n",
    "\n",
    "Constellations team members: Giacomo Acciarini (University of Strathclyde), Francesco Pinto (University of Oxford), Sascha Metz (TU Darmstadt), Sarah Boufelja (IBM), Sylvester Kaczmarek (Imperial College London), Klaus Merz (European Space Agency), José A. Martinez-Heras (European Space Agency), Francesca Letizia (European Space Agency), Christopher Bridges (University of Surrey), Atılım Güneş Baydin (University of Oxford).\n",
    "\n",
    "The main developers are: Giacomo Acciarini ( giacomo.acciarini@gmail.com ), Francesco Pinto ( francesco1.pinto@gmail.com ), Atılım Güneş Baydin ( gunes@robots.ox.ac.uk ).\n",
    "\n"
   ]
  }
 ],
 "metadata": {
  "kernelspec": {
   "display_name": "Python 3",
   "language": "python",
   "name": "python3"
  },
  "language_info": {
   "codemirror_mode": {
    "name": "ipython",
    "version": 3
   },
   "file_extension": ".py",
   "mimetype": "text/x-python",
   "name": "python",
   "nbconvert_exporter": "python",
   "pygments_lexer": "ipython3",
   "version": "3.7.9"
  }
 },
 "nbformat": 4,
 "nbformat_minor": 5
}
