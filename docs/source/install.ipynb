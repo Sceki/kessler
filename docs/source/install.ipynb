{
 "cells": [
  {
   "cell_type": "markdown",
   "metadata": {},
   "source": [
    "# Installation\n"
   ]
  },
  {
   "cell_type": "markdown",
   "metadata": {},
   "source": [
    "## Introduction\n",
    "\n",
    "\n"
   ]
  },
  {
   "cell_type": "markdown",
   "metadata": {},
   "source": [
    "Currently supported Python versions:\n",
    "\n",
    "* Python 3.6, 3.7, 3.8.\n",
    "\n",
    "Note: Python 3.9 is currently not supported due to one of our dependencies (pykep) not supporting it. You might get things working with Python 3.9 if you install [pykep using conda](https://anaconda.org/conda-forge/pykep) (not tested).\n"
   ]
  },
  {
   "cell_type": "markdown",
   "metadata": {},
   "source": [
    "## Dependencies\n",
    "\n"
   ]
  },
  {
   "cell_type": "markdown",
   "metadata": {},
   "source": [
    "It has the following mandatory dependencies:\n",
    "\n",
    "* [Numpy](https://numpy.org/)\n",
    "\n",
    "* [Matplotlib](https://matplotlib.org/)\n",
    "\n",
    "* [PyTorch (version >=1.5.1)](https://pytorch.org/)\n",
    "\n",
    "* [Pykep (version >=2.5)](https://esa.github.io/pykep/)\n",
    "\n",
    "* [Skyfield (version >=1.26)](https://rhodesmill.org/skyfield/)\n",
    "\n",
    "* [Pyprob](https://github.com/pyprob/pyprob)\n",
    "\n",
    "* [Pandas](https://pandas.pydata.org/)\n"
   ]
  },
  {
   "cell_type": "markdown",
   "metadata": {},
   "source": [
    "## How to install\n",
    " \n",
    "To install Kessler, do the following:\n"
   ]
  },
  {
   "cell_type": "raw",
   "metadata": {},
   "source": [
    "$ git clone https://github.com/kesslerlib/kessler.git\n",
    "$ cd kessler\n",
    "$ pip install -e ."
   ]
  },
  {
   "cell_type": "markdown",
   "metadata": {},
   "source": [
    "## Docker (optional)\n",
    "\n",
    "Build the Docker image:\n"
   ]
  },
  {
   "cell_type": "raw",
   "metadata": {},
   "source": [
    "$ docker build -t kessler ."
   ]
  },
  {
   "cell_type": "markdown",
   "metadata": {},
   "source": [
    "You might want to use Jupyter inside Docker.\n",
    "\n",
    "\n",
    "If you are using Linux:"
   ]
  },
  {
   "cell_type": "raw",
   "metadata": {},
   "source": [
    "$ docker run --rm -it -v $PWD:/workspace --net=host kessler jupyter notebook --allow-root"
   ]
  },
  {
   "cell_type": "markdown",
   "metadata": {},
   "source": [
    "If you are using MacOS:"
   ]
  },
  {
   "cell_type": "raw",
   "metadata": {},
   "source": [
    "$ docker run --rm -it -v $PWD:/workspace -p 8888:8888 kessler jupyter notebook --ip 0.0.0.0 --no-browser --allow-root"
   ]
  }
 ],
 "metadata": {
  "kernelspec": {
   "display_name": "Python 3",
   "language": "python",
   "name": "python3"
  },
  "language_info": {
   "codemirror_mode": {
    "name": "ipython",
    "version": 3
   },
   "file_extension": ".py",
   "mimetype": "text/x-python",
   "name": "python",
   "nbconvert_exporter": "python",
   "pygments_lexer": "ipython3",
   "version": "3.7.9"
  }
 },
 "nbformat": 4,
 "nbformat_minor": 4
}
